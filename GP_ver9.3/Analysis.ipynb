{
 "cells": [
  {
   "cell_type": "code",
   "execution_count": 1,
   "id": "vocational-chain",
   "metadata": {},
   "outputs": [],
   "source": [
    "# Analysis"
   ]
  },
  {
   "cell_type": "code",
   "execution_count": 2,
   "id": "intensive-tender",
   "metadata": {
    "scrolled": true
   },
   "outputs": [
    {
     "name": "stdout",
     "output_type": "stream",
     "text": [
      "importing Jupyter notebook from Categorize.ipynb\n",
      "importing Jupyter notebook from Score_Noun.ipynb\n",
      "importing Jupyter notebook from Score_BoundNoun.ipynb\n",
      "importing Jupyter notebook from Score_Verb.ipynb\n",
      "importing Jupyter notebook from Score_Adverb.ipynb\n",
      "importing Jupyter notebook from Score_Interjection.ipynb\n",
      "importing Jupyter notebook from Score_Pronoun.ipynb\n",
      "importing Jupyter notebook from Score_Adjective.ipynb\n",
      "importing Jupyter notebook from Score_Affix.ipynb\n",
      "importing Jupyter notebook from Score_Determiner.ipynb\n",
      "importing Jupyter notebook from Score_Numeral.ipynb\n",
      "importing Jupyter notebook from Calculate.ipynb\n",
      "importing Jupyter notebook from Output.ipynb\n",
      "importing Jupyter notebook from Output_ver2.ipynb\n",
      "importing Jupyter notebook from Graph.ipynb\n"
     ]
    }
   ],
   "source": [
    "import import_ipynb\n",
    "import Categorize\n",
    "import Calculate\n",
    "import Result\n",
    "import Graph"
   ]
  },
  {
   "cell_type": "code",
   "execution_count": 11,
   "id": "obvious-compromise",
   "metadata": {},
   "outputs": [],
   "source": [
    "import konlpy\n",
    "from konlpy.tag import Kkma\n",
    "kk = Kkma()"
   ]
  },
  {
   "cell_type": "code",
   "execution_count": 4,
   "id": "delayed-design",
   "metadata": {},
   "outputs": [],
   "source": [
    "def analysis_text(text):\n",
    "    # 전체 텍스트를 받음\n",
    "    \n",
    "    # 문장 개수, 문장들 리스트\n",
    "    num_sentence, list_sentence = analysis_sentence(text)\n",
    "    \n",
    "    # 위 두 정보를 txt 파일에 출력\n",
    "    Result.buf_add_sentence(num_sentence, list_sentence)\n",
    "    \n",
    "    # 전체 문장 개수 우선 출력\n",
    "    print('전체 문장 개수 : ', num_sentence)\n",
    "    \n",
    "    # 각 문장의 난이도 계산\n",
    "    for i in range(0, num_sentence):\n",
    "        # 진행도 출력\n",
    "        if i % 5 == 0 or i == num_sentence - 1:\n",
    "            print('현재 처리 문장 수 : [', i + 1, ' / ', num_sentence, ']   ', end = '\\r')\n",
    "        \n",
    "        scoring(list_sentence[i])\n",
    "    \n",
    "    print('\\n')"
   ]
  },
  {
   "cell_type": "code",
   "execution_count": 5,
   "id": "short-catalyst",
   "metadata": {},
   "outputs": [],
   "source": [
    "def analysis_sentence(text):\n",
    "    # 전체 텍스트를 받음\n",
    "    \n",
    "    # 문장 단위로 리스트화 및 길이(문장 개수) 리턴\n",
    "    sentences = kk.sentences(text)\n",
    "    return len(sentences), sentences"
   ]
  },
  {
   "cell_type": "code",
   "execution_count": 6,
   "id": "relative-wallpaper",
   "metadata": {},
   "outputs": [],
   "source": [
    "def scoring(sentence):\n",
    "    # 문장을 받음\n",
    "    \n",
    "    # 문장의 구성 형태소 분석\n",
    "    sample_list = kk.pos(sentence)\n",
    "    \n",
    "    # 형태소 분류 및 난이도 합산\n",
    "    for line in sample_list:\n",
    "        score_partial, morph_type = Categorize.categorize(line)\n",
    "        if score_partial is not None:\n",
    "            # 점수 및 어휘, 문법 여부\n",
    "            Calculate.add_num(score_partial, morph_type)\n",
    "            # 형태소, 품사, 점수\n",
    "            Result.list_add_position(line, score_partial)\n",
    "\n",
    "    Calculate.calculate_score_sentence()"
   ]
  },
  {
   "cell_type": "code",
   "execution_count": null,
   "id": "charming-aspect",
   "metadata": {},
   "outputs": [],
   "source": []
  },
  {
   "cell_type": "code",
   "execution_count": 7,
   "id": "colonial-clearing",
   "metadata": {},
   "outputs": [
    {
     "data": {
      "text/plain": [
       "[('가공', 'NNG'), ('하', 'XSA'), ('다', 'EFN')]"
      ]
     },
     "execution_count": 7,
     "metadata": {},
     "output_type": "execute_result"
    }
   ],
   "source": [
    "kk.pos('가공하다')"
   ]
  },
  {
   "cell_type": "code",
   "execution_count": 8,
   "id": "technical-priority",
   "metadata": {},
   "outputs": [
    {
     "data": {
      "text/plain": [
       "[('확실', 'XR'), ('하', 'XSA'), ('다', 'EFN')]"
      ]
     },
     "execution_count": 8,
     "metadata": {},
     "output_type": "execute_result"
    }
   ],
   "source": [
    "kk.pos('확실하다')"
   ]
  },
  {
   "cell_type": "code",
   "execution_count": 10,
   "id": "spectacular-warner",
   "metadata": {},
   "outputs": [
    {
     "data": {
      "text/plain": [
       "{'EC': '연결 어미',\n",
       " 'ECD': '의존적 연결 어미',\n",
       " 'ECE': '대등 연결 어미',\n",
       " 'ECS': '보조적 연결 어미',\n",
       " 'EF': '종결 어미',\n",
       " 'EFA': '청유형 종결 어미',\n",
       " 'EFI': '감탄형 종결 어미',\n",
       " 'EFN': '평서형 종결 어미',\n",
       " 'EFO': '명령형 종결 어미',\n",
       " 'EFQ': '의문형 종결 어미',\n",
       " 'EFR': '존칭형 종결 어미',\n",
       " 'EP': '선어말 어미',\n",
       " 'EPH': '존칭 선어말 어미',\n",
       " 'EPP': '공손 선어말 어미',\n",
       " 'EPT': '시제 선어말 어미',\n",
       " 'ET': '전성 어미',\n",
       " 'ETD': '관형형 전성 어미',\n",
       " 'ETN': '명사형 전성 어미',\n",
       " 'IC': '감탄사',\n",
       " 'JC': '접속 조사',\n",
       " 'JK': '조사',\n",
       " 'JKC': '보격 조사',\n",
       " 'JKG': '관형격 조사',\n",
       " 'JKI': '호격 조사',\n",
       " 'JKM': '부사격 조사',\n",
       " 'JKO': '목적격 조사',\n",
       " 'JKQ': '인용격 조사',\n",
       " 'JKS': '주격 조사',\n",
       " 'JX': '보조사',\n",
       " 'MA': '부사',\n",
       " 'MAC': '접속 부사',\n",
       " 'MAG': '일반 부사',\n",
       " 'MD': '관형사',\n",
       " 'MDN': '수 관형사',\n",
       " 'MDT': '일반 관형사',\n",
       " 'NN': '명사',\n",
       " 'NNB': '일반 의존 명사',\n",
       " 'NNG': '보통명사',\n",
       " 'NNM': '단위 의존 명사',\n",
       " 'NNP': '고유명사',\n",
       " 'NP': '대명사',\n",
       " 'NR': '수사',\n",
       " 'OH': '한자',\n",
       " 'OL': '외국어',\n",
       " 'ON': '숫자',\n",
       " 'SE': '줄임표',\n",
       " 'SF': '마침표, 물음표, 느낌표',\n",
       " 'SO': '붙임표(물결,숨김,빠짐)',\n",
       " 'SP': '쉼표,가운뎃점,콜론,빗금',\n",
       " 'SS': '따옴표,괄호표,줄표',\n",
       " 'SW': '기타기호 (논리수학기호,화폐기호)',\n",
       " 'UN': '명사추정범주',\n",
       " 'VA': '형용사',\n",
       " 'VC': '지정사',\n",
       " 'VCN': \"부정 지정사, 형용사 '아니다'\",\n",
       " 'VCP': \"긍정 지정사, 서술격 조사 '이다'\",\n",
       " 'VV': '동사',\n",
       " 'VX': '보조 용언',\n",
       " 'VXA': '보조 형용사',\n",
       " 'VXV': '보조 동사',\n",
       " 'XP': '접두사',\n",
       " 'XPN': '체언 접두사',\n",
       " 'XPV': '용언 접두사',\n",
       " 'XR': '어근',\n",
       " 'XSA': '형용사 파생 접미사',\n",
       " 'XSN': '명사파생 접미사',\n",
       " 'XSV': '동사 파생 접미사'}"
      ]
     },
     "execution_count": 10,
     "metadata": {},
     "output_type": "execute_result"
    }
   ],
   "source": [
    "kk.tagset"
   ]
  },
  {
   "cell_type": "code",
   "execution_count": 2,
   "id": "brave-great",
   "metadata": {},
   "outputs": [
    {
     "data": {
      "text/plain": [
       "[('게임', 'NNG'), ('하', 'VV'), ('었', 'EPT'), ('습니까', 'EFQ')]"
      ]
     },
     "execution_count": 2,
     "metadata": {},
     "output_type": "execute_result"
    }
   ],
   "source": [
    "kk.pos('게임 했습니까')"
   ]
  },
  {
   "cell_type": "code",
   "execution_count": null,
   "id": "imposed-heavy",
   "metadata": {},
   "outputs": [],
   "source": []
  }
 ],
 "metadata": {
  "kernelspec": {
   "display_name": "Python 3",
   "language": "python",
   "name": "python3"
  },
  "language_info": {
   "codemirror_mode": {
    "name": "ipython",
    "version": 3
   },
   "file_extension": ".py",
   "mimetype": "text/x-python",
   "name": "python",
   "nbconvert_exporter": "python",
   "pygments_lexer": "ipython3",
   "version": "3.8.8"
  }
 },
 "nbformat": 4,
 "nbformat_minor": 5
}
