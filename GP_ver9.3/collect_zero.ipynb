{
 "cells": [
  {
   "cell_type": "code",
   "execution_count": 17,
   "id": "administrative-union",
   "metadata": {},
   "outputs": [],
   "source": [
    "import os\n",
    "import pandas as pd\n",
    "\n",
    "list_zero = []\n",
    "\n",
    "root = os.path.join(os.getcwd(), 'Output')\n",
    "\n",
    "list_dir = os.listdir(root)\n",
    "\n",
    "num = len(list_dir)\n",
    "\n",
    "for directory in list_dir:\n",
    "    if not 'Chart' in directory:\n",
    "        with open(os.path.join(root, directory, 'output_find_zero.txt'), 'r', encoding = 'utf-8') as file:\n",
    "            string = file.read()\n",
    "            list_zero += string.split('\\n')\n",
    "\n",
    "set_zero = set(list_zero)\n",
    "list_zero = list(set_zero)\n",
    "\n",
    "result_Noun = []\n",
    "result_Adjective = []\n",
    "result_Verb = []\n",
    "\n",
    "for zero in list_zero:\n",
    "    if not '-' in zero:\n",
    "        if 'NN' in zero and ('NNB' in zero or 'NNM' in zero):\n",
    "            part = zero.split(' : ')\n",
    "            result_Noun.append(part)\n",
    "        if 'VV' in zero:\n",
    "            part = zero.split(' : ')\n",
    "            result_Verb.append(part)\n",
    "        if 'VA' in zero:\n",
    "            part = zero.split(' : ')\n",
    "            result_Adjective.append(part)\n",
    "\n",
    "data_Noun = pd.DataFrame(result_Noun, columns = ['형태소', '품사'])\n",
    "data_Verb = pd.DataFrame(result_Verb, columns = ['형태소', '품사'])\n",
    "data_Adjective = pd.DataFrame(result_Adjective, columns = ['형태소', '품사'])\n",
    "\n",
    "data_Noun.to_excel('zero_Noun.xlsx', index = False)\n",
    "data_Verb.to_excel('zero_Verb.xlsx', index = False)\n",
    "data_Adjective.to_excel('zero_Adjective.xlsx', index = False)"
   ]
  },
  {
   "cell_type": "code",
   "execution_count": null,
   "id": "marine-challenge",
   "metadata": {},
   "outputs": [],
   "source": []
  }
 ],
 "metadata": {
  "kernelspec": {
   "display_name": "Python 3",
   "language": "python",
   "name": "python3"
  },
  "language_info": {
   "codemirror_mode": {
    "name": "ipython",
    "version": 3
   },
   "file_extension": ".py",
   "mimetype": "text/x-python",
   "name": "python",
   "nbconvert_exporter": "python",
   "pygments_lexer": "ipython3",
   "version": "3.8.8"
  }
 },
 "nbformat": 4,
 "nbformat_minor": 5
}
