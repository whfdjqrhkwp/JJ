{
 "cells": [
  {
   "cell_type": "code",
   "execution_count": null,
   "id": "conventional-wiring",
   "metadata": {},
   "outputs": [],
   "source": [
    "import os\n",
    "import pandas as pd\n",
    "\n",
    "list_XR = []\n",
    "\n",
    "root = os.path.join(os.getcwd(), 'Output')\n",
    "\n",
    "list_dir = os.listdir(root)\n",
    "\n",
    "num = len(list_dir)\n",
    "\n",
    "for directory in list_dir:\n",
    "    if not 'Chart' in directory:\n",
    "        with open(os.path.join(root, directory, 'output_find_XR.txt'), 'r', encoding = 'utf-8') as file:\n",
    "            string = file.read()\n",
    "            list_XR += string.split('\\n')\n",
    "\n",
    "set_XR = set(list_XR)\n",
    "list_XR = list(set_XR)\n",
    "\n",
    "result = []\n",
    "\n",
    "for xr in list_XR:\n",
    "    if not '-' in xr:\n",
    "        result.append(xr)\n",
    "\n",
    "data = pd.DataFrame(result, columns = ['어근'])\n",
    "\n",
    "data.to_excel('XR.xlsx', index = False)"
   ]
  },
  {
   "cell_type": "code",
   "execution_count": null,
   "id": "focused-block",
   "metadata": {},
   "outputs": [],
   "source": []
  }
 ],
 "metadata": {
  "kernelspec": {
   "display_name": "Python 3",
   "language": "python",
   "name": "python3"
  },
  "language_info": {
   "codemirror_mode": {
    "name": "ipython",
    "version": 3
   },
   "file_extension": ".py",
   "mimetype": "text/x-python",
   "name": "python",
   "nbconvert_exporter": "python",
   "pygments_lexer": "ipython3",
   "version": "3.8.8"
  }
 },
 "nbformat": 4,
 "nbformat_minor": 5
}
