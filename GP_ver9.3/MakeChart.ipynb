{
 "cells": [
  {
   "cell_type": "code",
   "execution_count": 1,
   "id": "arctic-pressure",
   "metadata": {},
   "outputs": [
    {
     "name": "stdout",
     "output_type": "stream",
     "text": [
      "importing Jupyter notebook from Result.ipynb\n",
      "importing Jupyter notebook from Graph.ipynb\n",
      "importing Jupyter notebook from Calculate.ipynb\n"
     ]
    }
   ],
   "source": [
    "import import_ipynb\n",
    "\n",
    "import os\n",
    "import Result\n",
    "import matplotlib.pyplot as pp\n",
    "import matplotlib as mp\n",
    "import matplotlib.font_manager as fm\n",
    "import seaborn as sb\n",
    "import pandas as pd"
   ]
  },
  {
   "cell_type": "code",
   "execution_count": null,
   "id": "warming-stuart",
   "metadata": {},
   "outputs": [],
   "source": [
    "mp.font_manager._rebuild()"
   ]
  },
  {
   "cell_type": "code",
   "execution_count": 2,
   "id": "expired-wrapping",
   "metadata": {},
   "outputs": [],
   "source": [
    "# 각 파일별 태그 및 평균 점수, 어휘 0점 비율, 문법 0점 비율\n",
    "list_avg_kind = []\n",
    "list_voca_kind = []\n",
    "list_gram_kind = []\n",
    "\n",
    "# 태그별 개수 튜플\n",
    "list_kind_num = []"
   ]
  },
  {
   "cell_type": "code",
   "execution_count": 3,
   "id": "demonstrated-monitor",
   "metadata": {},
   "outputs": [],
   "source": [
    "def clear_list():\n",
    "    global list_avg_kind\n",
    "    global list_voca_kind\n",
    "    global list_gram_kind\n",
    "    \n",
    "    list_avg_all = []\n",
    "    list_voca_all = []\n",
    "    list_gram_all = []"
   ]
  },
  {
   "cell_type": "code",
   "execution_count": 4,
   "id": "therapeutic-mirror",
   "metadata": {},
   "outputs": [],
   "source": [
    "def to_eng(name):\n",
    "    if '기사' in name:\n",
    "        return 'news'\n",
    "    if '동화' in name:\n",
    "        return 'fairytale'\n",
    "    if '문학' in name:\n",
    "        return 'literature'\n",
    "    if '철학' in name:\n",
    "        return 'philosophy'\n",
    "    if '외국인' in name:\n",
    "        return 'foreigner'\n",
    "    if '판례' in name:\n",
    "        return 'judgement'\n",
    "    \n",
    "    return 'none'"
   ]
  },
  {
   "cell_type": "code",
   "execution_count": 5,
   "id": "impressed-vintage",
   "metadata": {},
   "outputs": [],
   "source": [
    "def add_list(filename):\n",
    "    global list_avg_kind\n",
    "    global list_voca_kind\n",
    "    global list_gram_kind\n",
    "    \n",
    "    global list_kind\n",
    "    \n",
    "    avg_add, voca_add, gram_add = Result.get_score_rate()\n",
    "    tag = filename.split('-')[0]\n",
    "    \n",
    "    list_avg_kind.append((tag, avg_add))\n",
    "    list_voca_kind.append((tag, voca_add))\n",
    "    list_gram_kind.append((tag, gram_add))\n",
    "    \n",
    "    # (tag, value)의 리스트"
   ]
  },
  {
   "cell_type": "code",
   "execution_count": 6,
   "id": "binding-statistics",
   "metadata": {},
   "outputs": [],
   "source": [
    "def get_num_kind():\n",
    "    global list_kind_num\n",
    "    \n",
    "    list_kind = [tp[0] for tp in list_avg_kind]\n",
    "    set_kind = set(list_kind)\n",
    "    \n",
    "    for kind in set_kind:\n",
    "        tp = (kind, list_kind.count(kind))\n",
    "        list_kind_num.append(tp)\n",
    "        \n",
    "    list_kind_num.sort(key = lambda tp : (-tp[1], tp[0]))\n",
    "    \n",
    "    # (tag,tag num)의 리스트"
   ]
  },
  {
   "cell_type": "code",
   "execution_count": 7,
   "id": "molecular-arrangement",
   "metadata": {},
   "outputs": [],
   "source": [
    "def match_list_kind_num():\n",
    "    global list_avg_kind\n",
    "    global list_voca_kind\n",
    "    global list_gram_kind\n",
    "    \n",
    "    num = len(list_avg_kind)\n",
    "    \n",
    "    for i in range(num):\n",
    "        for kind_num in list_kind_num:\n",
    "            if list_avg_kind[i][0] == kind_num[0]:\n",
    "                tp = list_avg_kind[i] + (kind_num[1],)\n",
    "                list_avg_kind[i] = tp\n",
    "                tp = list_voca_kind[i] + (kind_num[1],)\n",
    "                list_voca_kind[i] = tp\n",
    "                tp = list_gram_kind[i] + (kind_num[1],)\n",
    "                list_gram_kind[i] = tp\n",
    "    \n",
    "    # (tag, value, tag num)의 리스트"
   ]
  },
  {
   "cell_type": "code",
   "execution_count": 8,
   "id": "sticky-documentation",
   "metadata": {},
   "outputs": [],
   "source": [
    "def sort_list():\n",
    "    global list_avg_kind\n",
    "    global list_voca_kind\n",
    "    global list_gram_kind\n",
    "    \n",
    "    list_avg_kind.sort(key = lambda tp : (-tp[2], tp[0]))\n",
    "    list_voca_kind.sort(key = lambda tp : (-tp[2], tp[0]))\n",
    "    list_gram_kind.sort(key = lambda tp : (-tp[2], tp[0]))"
   ]
  },
  {
   "cell_type": "code",
   "execution_count": 9,
   "id": "stunning-classification",
   "metadata": {},
   "outputs": [],
   "source": [
    "avg_all_kind = []\n",
    "avg_each_kind = []\n",
    "\n",
    "voca_all_kind = []\n",
    "voca_each_kind = []\n",
    "\n",
    "gram_all_kind = []\n",
    "gram_each_kind = []"
   ]
  },
  {
   "cell_type": "code",
   "execution_count": 10,
   "id": "administrative-reading",
   "metadata": {},
   "outputs": [],
   "source": [
    "def classify():\n",
    "    global avg_all_kind\n",
    "    global avg_each_kind\n",
    "\n",
    "    global voca_all_kind\n",
    "    global voca_each_kind\n",
    "\n",
    "    global gram_all_kind\n",
    "    global gram_each_kind\n",
    "    \n",
    "    k = 0\n",
    "    for i in range(len(list_kind_num)):\n",
    "        for j in range(list_kind_num[i][1]):\n",
    "            avg_each_kind.append(list_avg_kind[k][1])\n",
    "            voca_each_kind.append(list_voca_kind[k][1])\n",
    "            gram_each_kind.append(list_gram_kind[k][1])\n",
    "            \n",
    "            k += 1\n",
    "        \n",
    "        avg_all_kind.append(avg_each_kind)\n",
    "        voca_all_kind.append(voca_each_kind)\n",
    "        gram_all_kind.append(gram_each_kind)\n",
    "        \n",
    "        avg_each_kind = []\n",
    "        voca_each_kind = []\n",
    "        gram_each_kind = []\n",
    "        \n",
    "    # [avg1, avg2, avg3, ... , avgn]의 리스트 (voca, gram도 동일)"
   ]
  },
  {
   "cell_type": "code",
   "execution_count": 11,
   "id": "loose-spirit",
   "metadata": {},
   "outputs": [],
   "source": [
    "data_avg = []\n",
    "data_voca = []\n",
    "data_gram = []"
   ]
  },
  {
   "cell_type": "code",
   "execution_count": 12,
   "id": "significant-cedar",
   "metadata": {},
   "outputs": [],
   "source": [
    "def to_data():\n",
    "    global data_avg\n",
    "    global data_voca\n",
    "    global data_gram\n",
    "\n",
    "    tp_avg = ()\n",
    "    tp_voca = ()\n",
    "    tp_gram = ()\n",
    "    \n",
    "    for i in range(len(avg_all_kind[0])):\n",
    "        for j in range(len(avg_all_kind)):\n",
    "            if i < len(avg_all_kind[j]):\n",
    "                tp_avg += (avg_all_kind[j][i],)\n",
    "                tp_voca += (voca_all_kind[j][i],)\n",
    "                tp_gram += (gram_all_kind[j][i],)\n",
    "        \n",
    "        data_avg.append(tp_avg)\n",
    "        data_voca.append(tp_voca)\n",
    "        data_gram.append(tp_gram)\n",
    "        \n",
    "        tp_avg = ()\n",
    "        tp_voca = ()\n",
    "        tp_gram = ()\n",
    "        \n",
    "    # (avg_kind1_1, avg_kind2_1, avg_kind3_1, ... , avg_kindn_1)의 리스트 (voca, gram 동일)"
   ]
  },
  {
   "cell_type": "code",
   "execution_count": 13,
   "id": "complex-religious",
   "metadata": {},
   "outputs": [],
   "source": [
    "def get_dataframe():\n",
    "    df_avg = pd.DataFrame(data_avg, columns = [name[0] for name in list_kind_num])\n",
    "    df_voca = pd.DataFrame(data_voca, columns = [name[0] for name in list_kind_num])\n",
    "    df_gram = pd.DataFrame(data_gram, columns = [name[0] for name in list_kind_num])\n",
    "    \n",
    "    create_dir()\n",
    "    make_graph(df_avg, df_voca, df_gram)"
   ]
  },
  {
   "cell_type": "code",
   "execution_count": 14,
   "id": "adjusted-issue",
   "metadata": {},
   "outputs": [],
   "source": [
    "address_chart = ''"
   ]
  },
  {
   "cell_type": "code",
   "execution_count": 15,
   "id": "divine-christian",
   "metadata": {},
   "outputs": [],
   "source": [
    "def create_dir():\n",
    "    global address_chart\n",
    "    \n",
    "    chart_dir = 'Chart'\n",
    "    address_chart = os.path.join(Result.get_output_dir_address(), chart_dir)\n",
    "\n",
    "    # 하위 경로에 Output 디렉토리가 없을 경우 생성\n",
    "    if not os.path.isdir(address_chart):\n",
    "        os.mkdir(address_chart)"
   ]
  },
  {
   "cell_type": "code",
   "execution_count": 16,
   "id": "norwegian-incident",
   "metadata": {},
   "outputs": [],
   "source": [
    "def make_graph(avg, voca, gram):    \n",
    "    font_addr = os.path.join(os.getcwd(), 'Font', 'NanumFontSetup_TTF_BARUNGOTHIC', 'NanumBarunGothic.ttf')\n",
    "    font_name = fm.FontProperties(fname = font_addr).get_name()\n",
    "    mp.rc('font', family = font_name)\n",
    "    \n",
    "    pp.figure(figsize = (12, 4))\n",
    "    pp.title('Average')\n",
    "    sb.swarmplot(data = avg)\n",
    "    pp.savefig(os.path.join(address_chart, 'img_ave.png'))\n",
    "    pp.show()\n",
    "    \n",
    "    pp.figure(figsize = (12, 4))\n",
    "    pp.title('Voca zero rate')\n",
    "    sb.swarmplot(data = voca)\n",
    "    pp.savefig(os.path.join(address_chart, 'img_voca.png'))\n",
    "    pp.show()\n",
    "    \n",
    "    pp.figure(figsize = (12, 4))\n",
    "    pp.title('Gram zero rate')\n",
    "    sb.swarmplot(data = gram)\n",
    "    pp.savefig(os.path.join(address_chart, 'img_gram.png'))\n",
    "    pp.show()"
   ]
  },
  {
   "cell_type": "code",
   "execution_count": 17,
   "id": "organized-stretch",
   "metadata": {},
   "outputs": [],
   "source": [
    "def exe():\n",
    "    qst = 'Sampling? [y/n] : '\n",
    "    ans = input(qst)\n",
    "    \n",
    "    if 'n' in ans or 'N' in ans:\n",
    "        return 0\n",
    "    \n",
    "    get_num_kind()\n",
    "    match_list_kind_num()\n",
    "    sort_list()\n",
    "    classify() \n",
    "    to_data()    \n",
    "    get_dataframe()"
   ]
  },
  {
   "cell_type": "code",
   "execution_count": null,
   "id": "documented-webster",
   "metadata": {},
   "outputs": [],
   "source": []
  }
 ],
 "metadata": {
  "kernelspec": {
   "display_name": "Python 3",
   "language": "python",
   "name": "python3"
  },
  "language_info": {
   "codemirror_mode": {
    "name": "ipython",
    "version": 3
   },
   "file_extension": ".py",
   "mimetype": "text/x-python",
   "name": "python",
   "nbconvert_exporter": "python",
   "pygments_lexer": "ipython3",
   "version": "3.8.8"
  }
 },
 "nbformat": 4,
 "nbformat_minor": 5
}
