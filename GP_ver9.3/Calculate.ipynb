{
 "cells": [
  {
   "cell_type": "code",
   "execution_count": 1,
   "id": "seeing-charger",
   "metadata": {},
   "outputs": [],
   "source": [
    "# Calculate"
   ]
  },
  {
   "cell_type": "code",
   "execution_count": 2,
   "id": "victorian-lodge",
   "metadata": {},
   "outputs": [],
   "source": [
    "import import_ipynb"
   ]
  },
  {
   "cell_type": "code",
   "execution_count": 3,
   "id": "gorgeous-ratio",
   "metadata": {},
   "outputs": [],
   "source": [
    "# 어휘 점수별 개수 (0점 ~ 6점)\n",
    "num_voca = [0] * 7\n",
    "\n",
    "# 문법 점수별 개수 (0점 ~ 6점)\n",
    "num_gram = [0] * 7\n",
    "\n",
    "# 전체 어휘 점수별 개수\n",
    "num_voca_total = [0] * 7\n",
    "\n",
    "# 전체 문법 점수별 개수\n",
    "num_gram_total = [0] * 7"
   ]
  },
  {
   "cell_type": "code",
   "execution_count": null,
   "id": "understood-horizontal",
   "metadata": {},
   "outputs": [],
   "source": [
    "# 문장들 점수\n",
    "score_list = []"
   ]
  },
  {
   "cell_type": "code",
   "execution_count": 6,
   "id": "extended-comparative",
   "metadata": {},
   "outputs": [],
   "source": [
    "def clear_num():\n",
    "    global num_voca\n",
    "    global num_gram\n",
    "    \n",
    "    num_voca = [0] * 7\n",
    "    num_gram = [0] * 7"
   ]
  },
  {
   "cell_type": "code",
   "execution_count": null,
   "id": "committed-mirror",
   "metadata": {},
   "outputs": [],
   "source": [
    "def clear_num_total():\n",
    "    global num_voca_total\n",
    "    global num_gram_total\n",
    "    \n",
    "    num_voca_total = [0] * 7\n",
    "    num_gram_total = [0] * 7"
   ]
  },
  {
   "cell_type": "code",
   "execution_count": 7,
   "id": "closed-racing",
   "metadata": {},
   "outputs": [],
   "source": [
    "def add_num(score, morph_type):\n",
    "    global num_voca\n",
    "    global num_gram\n",
    "    \n",
    "    global num_voca_total\n",
    "    global num_voca_total\n",
    "    \n",
    "    if morph_type == 'voca':\n",
    "        num_voca[score] += 1\n",
    "        num_voca_total[score] += 1\n",
    "    if morph_type == 'gram':\n",
    "        num_gram[score] += 1\n",
    "        num_gram_total[score] += 1"
   ]
  },
  {
   "cell_type": "code",
   "execution_count": null,
   "id": "urban-durham",
   "metadata": {},
   "outputs": [],
   "source": [
    "def calculate_score_sentence():\n",
    "    global score_list\n",
    "    \n",
    "    num_voca_sum = sum(num_voca)\n",
    "    num_gram_sum = sum(num_gram)\n",
    "    \n",
    "    if num_voca_sum == 0:\n",
    "        num_voca_sum = 1\n",
    "    if num_gram_sum == 0:\n",
    "        num_gram_sum = 1\n",
    "    \n",
    "    score_voca = 0\n",
    "    score_gram = 0\n",
    "    \n",
    "    for i in range(0, 7):\n",
    "        score_voca += (num_voca[i] / num_voca_sum) * 10 * pow(i * 0.4, 2)\n",
    "        score_gram += (num_gram[i] / num_gram_sum) * 10 * pow(i * 0.4, 2)\n",
    "    \n",
    "    score_sentence = (1.84 * score_voca + 1.22 * score_gram) * 2.0\n",
    "    \n",
    "    clear_num()\n",
    "    \n",
    "    score_list.append(score_sentence)"
   ]
  },
  {
   "cell_type": "code",
   "execution_count": 8,
   "id": "identified-slave",
   "metadata": {},
   "outputs": [],
   "source": [
    "def clear_score():\n",
    "    global score_list\n",
    "    score_list = []"
   ]
  },
  {
   "cell_type": "code",
   "execution_count": null,
   "id": "systematic-survivor",
   "metadata": {},
   "outputs": [],
   "source": [
    "def add_score():\n",
    "    global score_list\n",
    "    \n",
    "    score = calculate_sentence()\n",
    "    score_list.append(score)"
   ]
  },
  {
   "cell_type": "code",
   "execution_count": null,
   "id": "pending-trash",
   "metadata": {},
   "outputs": [],
   "source": [
    "def get_score_list():\n",
    "    return score_list"
   ]
  },
  {
   "cell_type": "code",
   "execution_count": null,
   "id": "loved-michael",
   "metadata": {},
   "outputs": [],
   "source": [
    "def get_score_total():\n",
    "    return sum(score_list)"
   ]
  },
  {
   "cell_type": "code",
   "execution_count": null,
   "id": "demanding-commercial",
   "metadata": {},
   "outputs": [],
   "source": [
    "def get_score_len():\n",
    "    return len(score_list)"
   ]
  },
  {
   "cell_type": "code",
   "execution_count": null,
   "id": "polar-closing",
   "metadata": {},
   "outputs": [],
   "source": [
    "def get_num_voca_total():\n",
    "    return num_voca_total"
   ]
  },
  {
   "cell_type": "code",
   "execution_count": null,
   "id": "consolidated-compensation",
   "metadata": {},
   "outputs": [],
   "source": [
    "def get_num_gram_total():\n",
    "    return num_gram_total"
   ]
  },
  {
   "cell_type": "code",
   "execution_count": null,
   "id": "attended-columbus",
   "metadata": {},
   "outputs": [],
   "source": []
  },
  {
   "cell_type": "code",
   "execution_count": null,
   "id": "applied-earthquake",
   "metadata": {},
   "outputs": [],
   "source": []
  }
 ],
 "metadata": {
  "kernelspec": {
   "display_name": "Python 3",
   "language": "python",
   "name": "python3"
  },
  "language_info": {
   "codemirror_mode": {
    "name": "ipython",
    "version": 3
   },
   "file_extension": ".py",
   "mimetype": "text/x-python",
   "name": "python",
   "nbconvert_exporter": "python",
   "pygments_lexer": "ipython3",
   "version": "3.8.8"
  }
 },
 "nbformat": 4,
 "nbformat_minor": 5
}
