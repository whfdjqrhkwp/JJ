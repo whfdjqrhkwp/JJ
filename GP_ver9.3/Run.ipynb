{
 "cells": [
  {
   "cell_type": "code",
   "execution_count": null,
   "id": "italian-payday",
   "metadata": {},
   "outputs": [],
   "source": [
    "# Run"
   ]
  },
  {
   "cell_type": "code",
   "execution_count": null,
   "id": "satellite-equilibrium",
   "metadata": {},
   "outputs": [],
   "source": [
    "import import_ipynb\n",
    "\n",
    "import os\n",
    "import time\n",
    "\n",
    "import MakeChart\n",
    "import Graph\n",
    "import Analysis\n",
    "import Result\n",
    "import Calculate\n",
    "from Analysis import Categorize "
   ]
  },
  {
   "cell_type": "code",
   "execution_count": null,
   "id": "martial-indie",
   "metadata": {},
   "outputs": [],
   "source": [
    "def dataload():\n",
    "    # 요소별 책정 난이도 자료 읽기\n",
    "    \n",
    "    Categorize.Score_Noun.init()\n",
    "    Categorize.Score_BoundNoun.init()\n",
    "    Categorize.Score_Verb.init()\n",
    "    Categorize.Score_Adverb.init()\n",
    "    Categorize.Score_Interjection.init()\n",
    "    Categorize.Score_Pronoun.init()\n",
    "    Categorize.Score_Adjective.init()\n",
    "    Categorize.Score_Affix.init()\n",
    "    Categorize.Score_Determiner.init()\n",
    "    Categorize.Score_Numeral.init()\n",
    "    \n",
    "    Categorize.Score_PreFinalEnding.init()\n",
    "    Categorize.Score_FinalEnding.init()\n",
    "    Categorize.Score_ConnectEnding.init()\n",
    "    Categorize.Score_TransEnding.init()\n",
    "    Categorize.Score_Postposition.init()\n",
    "    \n",
    "    print('\\n---------------------------------------------------------------------------------------------------------------\\n')"
   ]
  },
  {
   "cell_type": "code",
   "execution_count": null,
   "id": "juvenile-arlington",
   "metadata": {},
   "outputs": [],
   "source": [
    "def show_index(input_dir):\n",
    "    list_txt = os.listdir(os.path.join(os.getcwd(), input_dir))\n",
    "    \n",
    "    for i in range(len(list_txt)):\n",
    "        if '.txt' in list_txt[i]:\n",
    "            list_txt[i] = '[파일] ' + list_txt[i]\n",
    "        else:\n",
    "            list_txt[i] = '[디렉토리] ' + list_txt[i]\n",
    "            \n",
    "    list_txt.sort()\n",
    "    \n",
    "    for i in range(0, len(list_txt)):\n",
    "        print(str(int(i + 1)) + '.', list_txt[i].replace('.txt', '')[:75])\n",
    "    \n",
    "    for i in range(len(list_txt)):\n",
    "        if '[파일]' in list_txt[i]:\n",
    "            list_txt[i] = list_txt[i].replace('[파일] ', '')\n",
    "        else:\n",
    "            list_txt[i] = list_txt[i].replace('[디렉토리] ', '')\n",
    "        \n",
    "    return list_txt"
   ]
  },
  {
   "cell_type": "code",
   "execution_count": null,
   "id": "serious-offset",
   "metadata": {},
   "outputs": [],
   "source": [
    "def set_index():\n",
    "    show_text = '\\n========================항목 번호 입력========================\\n'\n",
    "    show_text += '- 쉼표 구분으로 여러 번호 입력 (n1, n2, n3, ...)\\n'\n",
    "    show_text += '- 물결표로 구간 지정 (n1 ~ n2)\\n'\n",
    "    show_text += '- 디렉토리 선택 시 하위 txt 모두 읽음\\n'\n",
    "    show_text += '- 0 입력 시 종료\\n'\n",
    "    show_text += '- R 또는 r 입력 시 분포도 데이터 초기화\\n'\n",
    "    show_text += '===============================================================\\n'\n",
    "    show_text += 'Input : '\n",
    "    \n",
    "    index_string = input(show_text)\n",
    "    index_list = []\n",
    "    \n",
    "    if 'r' in index_string or 'R' in index_string:\n",
    "        MakeChart.clear_list()\n",
    "        print('Char Data cleared ...')\n",
    "        return set_index()\n",
    "    \n",
    "    if ',' in index_string:\n",
    "        index_list = index_string.split(',')\n",
    "        index_list = [int(index) for index in index_list]\n",
    "    elif '~' in index_string:\n",
    "        start, end = index_string.split('~')\n",
    "        index_list = [int(index) for index in range(int(start), int(end) + 1)]\n",
    "    else:\n",
    "        index_list.append(int(index_string))\n",
    "    \n",
    "    return index_list"
   ]
  },
  {
   "cell_type": "code",
   "execution_count": null,
   "id": "advisory-insulation",
   "metadata": {},
   "outputs": [],
   "source": [
    "def read_txt(path, group):\n",
    "    filename = path.split('\\\\')[-1]\n",
    "    print('입력된 파일 :', filename, '\\n')\n",
    "    \n",
    "    with open(path, 'r', encoding = 'utf-8') as file:\n",
    "        text = file.read().replace('\\n', '')\n",
    "    \n",
    "    Analysis.analysis_text(text)\n",
    "    MakeChart.add_list(group)\n",
    "    Result.result_simple()\n",
    "    Result.run(filename.replace('.txt', ''))\n",
    "        \n",
    "    print('\\n---------------------------------------------------------------------------------------------------------------\\n')"
   ]
  },
  {
   "cell_type": "code",
   "execution_count": null,
   "id": "parallel-potato",
   "metadata": {},
   "outputs": [],
   "source": [
    "def read_dir(input_dir, dirname):\n",
    "    current_path = os.path.join(os.getcwd(), input_dir, dirname)\n",
    "    \n",
    "    list_txt = os.listdir(current_path)\n",
    "    num = len(list_txt)\n",
    "    index = 0\n",
    "    \n",
    "    for txt in list_txt:\n",
    "        print('현재 디렉토리 :', dirname, '[{}/{}]'.format(index + 1, num))\n",
    "        index += 1\n",
    "        read_txt(os.path.join(current_path, txt), dirname)"
   ]
  },
  {
   "cell_type": "code",
   "execution_count": null,
   "id": "binary-invitation",
   "metadata": {},
   "outputs": [],
   "source": [
    "def read_file(input_dir, list_txt, index):\n",
    "    text = ''\n",
    "    \n",
    "    if(index == '0'):\n",
    "        return 0\n",
    "    filename = list_txt[int(index) - 1]\n",
    "    if not '.txt' in filename:\n",
    "        return read_dir(input_dir, filename)\n",
    "    \n",
    "    path = os.path.join(os.getcwd(), input_dir, filename)\n",
    "    \n",
    "    read_txt(path, 'Unclassified')\n"
   ]
  },
  {
   "cell_type": "code",
   "execution_count": null,
   "id": "nearby-boards",
   "metadata": {},
   "outputs": [],
   "source": [
    "def read_input():\n",
    "    input_dir = 'Input'\n",
    "    \n",
    "    while True:\n",
    "        list_txt = show_index(input_dir)\n",
    "        \n",
    "        time.sleep(0.5)\n",
    "        \n",
    "        index_list = set_index()\n",
    "        if index_list[0] == 0:\n",
    "            return 0\n",
    "        \n",
    "        for index in index_list:\n",
    "            read_file(input_dir, list_txt, index)\n",
    "        "
   ]
  },
  {
   "cell_type": "code",
   "execution_count": null,
   "id": "acute-utilization",
   "metadata": {},
   "outputs": [],
   "source": [
    "if __name__ == '__main__':\n",
    "    dataload()\n",
    "\n",
    "    read_input()\n",
    "    \n",
    "    MakeChart.exe()\n",
    "    \n",
    "    os.system('pause')\n",
    "    "
   ]
  },
  {
   "cell_type": "code",
   "execution_count": null,
   "id": "broken-scotland",
   "metadata": {},
   "outputs": [],
   "source": []
  }
 ],
 "metadata": {
  "kernelspec": {
   "display_name": "Python 3",
   "language": "python",
   "name": "python3"
  },
  "language_info": {
   "codemirror_mode": {
    "name": "ipython",
    "version": 3
   },
   "file_extension": ".py",
   "mimetype": "text/x-python",
   "name": "python",
   "nbconvert_exporter": "python",
   "pygments_lexer": "ipython3",
   "version": "3.8.8"
  }
 },
 "nbformat": 4,
 "nbformat_minor": 5
}
