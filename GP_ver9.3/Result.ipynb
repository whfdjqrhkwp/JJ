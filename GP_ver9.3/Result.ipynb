{
 "cells": [
  {
   "cell_type": "code",
   "execution_count": 4,
   "id": "vulnerable-thursday",
   "metadata": {},
   "outputs": [],
   "source": [
    "# Result"
   ]
  },
  {
   "cell_type": "code",
   "execution_count": 5,
   "id": "eleven-camping",
   "metadata": {},
   "outputs": [],
   "source": [
    "import import_ipynb\n",
    "import os\n",
    "import Graph\n",
    "import Calculate"
   ]
  },
  {
   "cell_type": "code",
   "execution_count": 30,
   "id": "canadian-graduation",
   "metadata": {},
   "outputs": [],
   "source": [
    "# 형태소 분석 결과 버퍼\n",
    "buf_position = ''\n",
    "\n",
    "# 문장 분리 결과 버퍼\n",
    "buf_sentence = ''\n",
    "\n",
    "# UN 추출 결과 버퍼\n",
    "buf_find_UN = ''\n",
    "\n",
    "# 0점 추출 결과 버퍼\n",
    "buf_find_zero = ''\n",
    "\n",
    "# XR 추출 결과 버퍼\n",
    "buf_find_XR = ''\n",
    "\n",
    "# 점수 결과 버퍼\n",
    "buf_score = ''\n",
    "\n",
    "# 형태소 - 품사 개수 버퍼\n",
    "buf_position_num = ''"
   ]
  },
  {
   "cell_type": "code",
   "execution_count": null,
   "id": "heavy-matrix",
   "metadata": {},
   "outputs": [],
   "source": [
    "list_position = []\n",
    "\n",
    "list_UN = []\n",
    "\n",
    "list_zero = []\n",
    "\n",
    "list_XR = []\n",
    "\n",
    "list_position_num = []"
   ]
  },
  {
   "cell_type": "code",
   "execution_count": 35,
   "id": "suspected-fight",
   "metadata": {},
   "outputs": [],
   "source": [
    "# 형태소 분석 결과 파일명\n",
    "filename_position = 'output_position.txt'\n",
    "\n",
    "# 문장 분리 결과 파일명\n",
    "filename_sentence = 'output_sentence.txt'\n",
    "\n",
    "# UN 추출 결과 파일명\n",
    "filename_find_UN = 'output_find_UN.txt'\n",
    "\n",
    "# 0점 추출 결과 파일명\n",
    "filename_find_zero = 'output_find_zero.txt'\n",
    "\n",
    "# XR 추출 결과 파일명\n",
    "filename_find_XR = 'output_find_XR.txt'\n",
    "\n",
    "# 점수 결과 파일명\n",
    "filename_score = 'output_score.txt'\n",
    "\n",
    "# 형태소 품사 개수 결과 파일명\n",
    "filename_position_num = 'output_position_num.txt'"
   ]
  },
  {
   "cell_type": "code",
   "execution_count": 38,
   "id": "coral-bridges",
   "metadata": {},
   "outputs": [],
   "source": [
    "# 현재 디렉토리 위치\n",
    "root_dir = os.getcwd()\n",
    "\n",
    "# 결과 디렉토리 이름\n",
    "output_dir = 'Output'\n",
    "\n",
    "# 현재 입력 파일명\n",
    "input_dir = ''\n",
    "\n",
    "# 현재 출력 디렉토리 주소\n",
    "address_output = ''"
   ]
  },
  {
   "cell_type": "code",
   "execution_count": null,
   "id": "multiple-brighton",
   "metadata": {},
   "outputs": [],
   "source": [
    "def get_output_dir_address():\n",
    "    return os.path.join(root_dir, output_dir)"
   ]
  },
  {
   "cell_type": "code",
   "execution_count": null,
   "id": "technological-customer",
   "metadata": {},
   "outputs": [],
   "source": [
    "def get_output_address():\n",
    "    return address_output"
   ]
  },
  {
   "cell_type": "code",
   "execution_count": 89,
   "id": "pharmaceutical-mineral",
   "metadata": {},
   "outputs": [],
   "source": [
    "def run(input_name):\n",
    "    buf_add_score()\n",
    "    buf_add_position()\n",
    "    buf_add_UN()\n",
    "    buf_add_XR()\n",
    "    buf_add_zero()\n",
    "    buf_add_position_num()\n",
    "    \n",
    "    create_dir()\n",
    "    create_each_dir(input_name)\n",
    "    create_output_txt()\n",
    "    \n",
    "    Graph.draw_graph(Calculate.get_score_list())\n",
    "    \n",
    "    Calculate.clear_num_total()\n",
    "    Calculate.clear_score()\n",
    "    \n",
    "    clear_buf()\n",
    "    clear_address()"
   ]
  },
  {
   "cell_type": "code",
   "execution_count": 43,
   "id": "chinese-cemetery",
   "metadata": {},
   "outputs": [],
   "source": [
    "def create_dir():\n",
    "    address = os.path.join(root_dir, output_dir)\n",
    "\n",
    "    # 하위 경로에 Output 디렉토리가 없을 경우 생성\n",
    "    if not os.path.isdir(address):\n",
    "        os.mkdir(address)"
   ]
  },
  {
   "cell_type": "code",
   "execution_count": 44,
   "id": "computational-botswana",
   "metadata": {},
   "outputs": [],
   "source": [
    "def create_each_dir(input_name):\n",
    "    # 입력 파일명 및 출력 디렉토리 주소 기억\n",
    "    global input_dir\n",
    "    global address_output\n",
    "    \n",
    "    input_dir = input_name\n",
    "    address_output = os.path.join(root_dir, output_dir, input_name)\n",
    "    \n",
    "    # Output 디렉토리 내 없는 input 파일명일 경우 생성\n",
    "    if not os.path.isdir(address_output):\n",
    "        os.mkdir(address_output)"
   ]
  },
  {
   "cell_type": "code",
   "execution_count": 84,
   "id": "intimate-advantage",
   "metadata": {},
   "outputs": [],
   "source": [
    "def create_output_txt():\n",
    "    list_filename, list_buf = get_list()\n",
    "    \n",
    "    # 해당 입력 파일명을 가진 결과 디렉토리에 파일 생성\n",
    "    for i in range(0, len(list_filename)):\n",
    "        with open(os.path.join(address_output, list_filename[i]), 'w', encoding = 'utf-8') as file:\n",
    "            file.write(list_buf[i])"
   ]
  },
  {
   "cell_type": "code",
   "execution_count": 81,
   "id": "widespread-absence",
   "metadata": {},
   "outputs": [],
   "source": [
    "def get_list():\n",
    "    # 파일명과 버퍼를 리스트화\n",
    "    list_filename = []\n",
    "    list_buf = []\n",
    "    \n",
    "    list_filename.append(filename_position)\n",
    "    list_filename.append(filename_sentence)\n",
    "    list_filename.append(filename_find_UN)\n",
    "    list_filename.append(filename_find_zero)\n",
    "    list_filename.append(filename_find_XR)\n",
    "    list_filename.append(filename_score)\n",
    "    list_filename.append(filename_position_num)\n",
    "    \n",
    "    list_buf.append(buf_position)\n",
    "    list_buf.append(buf_sentence)\n",
    "    list_buf.append(buf_find_UN)\n",
    "    list_buf.append(buf_find_zero)\n",
    "    list_buf.append(buf_find_XR)\n",
    "    list_buf.append(buf_score)\n",
    "    list_buf.append(buf_position_num)\n",
    "    \n",
    "    return list_filename, list_buf"
   ]
  },
  {
   "cell_type": "code",
   "execution_count": 88,
   "id": "reduced-equilibrium",
   "metadata": {},
   "outputs": [],
   "source": [
    "def clear_buf():\n",
    "    global buf_position\n",
    "    global buf_sentence\n",
    "    global buf_find_UN\n",
    "    global buf_find_zero\n",
    "    global buf_find_XR\n",
    "    global buf_score\n",
    "    global buf_position_num\n",
    "    \n",
    "    buf_position = ''\n",
    "    buf_sentence = ''\n",
    "    buf_find_UN = ''\n",
    "    buf_find_zero = ''\n",
    "    buf_find_XR = ''\n",
    "    buf_score = ''\n",
    "    buf_position_num = ''\n",
    "    \n",
    "    global list_position\n",
    "    global list_zero\n",
    "    global list_UN\n",
    "    global list_XR\n",
    "    global list_position_num\n",
    "    \n",
    "    list_position = []\n",
    "    list_zero = []\n",
    "    list_XR = []\n",
    "    list_UN = []\n",
    "    list_position_num = []"
   ]
  },
  {
   "cell_type": "code",
   "execution_count": null,
   "id": "particular-killer",
   "metadata": {},
   "outputs": [],
   "source": [
    "def clear_address():\n",
    "    global input_dir\n",
    "    global address_output\n",
    "    \n",
    "    input_dir = ''\n",
    "    address_output = ''"
   ]
  },
  {
   "cell_type": "code",
   "execution_count": null,
   "id": "expanded-navigator",
   "metadata": {},
   "outputs": [],
   "source": []
  },
  {
   "cell_type": "code",
   "execution_count": null,
   "id": "significant-procedure",
   "metadata": {},
   "outputs": [],
   "source": []
  },
  {
   "cell_type": "code",
   "execution_count": 80,
   "id": "apparent-allergy",
   "metadata": {},
   "outputs": [],
   "source": [
    "def buf_add_position():\n",
    "    global buf_position\n",
    "    \n",
    "    # 한 문장의 형태소 분석 결과를 버퍼에 추가\n",
    "    for line in list_position:\n",
    "        buf_position += ' : '.join(line) + '\\n'\n",
    "        buf_position += '-----------------------------\\n'"
   ]
  },
  {
   "cell_type": "code",
   "execution_count": 47,
   "id": "above-sheep",
   "metadata": {},
   "outputs": [],
   "source": [
    "def buf_add_sentence(num, sentences):\n",
    "    global buf_sentence\n",
    "    \n",
    "    # 전체 문장 개수 및 모든 문장 버퍼에 추가\n",
    "    buf_sentence += '총 문장 개수 : ' + str(num) + '\\n\\n'\n",
    "    buf_sentence += '\\n-------------------------------------\\n'.join(sentences)"
   ]
  },
  {
   "cell_type": "code",
   "execution_count": 48,
   "id": "macro-plate",
   "metadata": {},
   "outputs": [],
   "source": [
    "def buf_add_UN():\n",
    "    global buf_find_UN\n",
    "    \n",
    "    set_UN = set(list_UN)\n",
    "    \n",
    "    # UN으로 분류된 요소 버퍼에 추가\n",
    "    for line in set_UN:\n",
    "        buf_find_UN += line + '\\n'\n",
    "        buf_find_UN += '------------------------\\n'"
   ]
  },
  {
   "cell_type": "code",
   "execution_count": 49,
   "id": "chronic-accounting",
   "metadata": {},
   "outputs": [],
   "source": [
    "def buf_add_XR():\n",
    "    global buf_find_XR\n",
    "    \n",
    "    set_XR = set(list_XR)\n",
    "    \n",
    "    # XR로 분류된 요소 버퍼에 추가\n",
    "    for line in set_XR:\n",
    "        buf_find_XR += line + '\\n'\n",
    "        buf_find_XR += '------------------------\\n'"
   ]
  },
  {
   "cell_type": "code",
   "execution_count": 51,
   "id": "geological-insured",
   "metadata": {},
   "outputs": [],
   "source": [
    "def buf_add_zero():\n",
    "    global buf_find_zero\n",
    "    \n",
    "    set_zero = set(list_zero)\n",
    "    \n",
    "    # 0점으로 책정된 요소 버퍼에 추가\n",
    "    for line in set_zero:\n",
    "        buf_find_zero += ' : '.join(line) + '\\n'\n",
    "        buf_find_zero += '------------------------\\n'"
   ]
  },
  {
   "cell_type": "code",
   "execution_count": null,
   "id": "approved-constitution",
   "metadata": {},
   "outputs": [],
   "source": [
    "def buf_add_position_num():\n",
    "    global buf_position_num\n",
    "    \n",
    "    list_position_num.sort(key = lambda n : -n[2])\n",
    "    \n",
    "    for line in list_position_num:\n",
    "        line[2] = str(line[2])\n",
    "        \n",
    "        buf_position_num += ' : '.join(line) + '\\n'\n",
    "        buf_position_num += '-----------------------------'"
   ]
  },
  {
   "cell_type": "code",
   "execution_count": null,
   "id": "diverse-tulsa",
   "metadata": {},
   "outputs": [],
   "source": []
  },
  {
   "cell_type": "code",
   "execution_count": null,
   "id": "italic-biotechnology",
   "metadata": {},
   "outputs": [],
   "source": [
    "def list_add_position(line, score):\n",
    "    global list_position\n",
    "    \n",
    "    list_add_position_num(line)\n",
    "    \n",
    "    if line[1] == 'UN':\n",
    "        list_add_UN(line)\n",
    "    if line[1] == 'XR':\n",
    "        list_add_XR(line)\n",
    "    if score == 0:\n",
    "        list_add_zero(line)\n",
    "        \n",
    "    line += (str(score),)\n",
    "    list_position.append(line)"
   ]
  },
  {
   "cell_type": "code",
   "execution_count": null,
   "id": "acceptable-judge",
   "metadata": {},
   "outputs": [],
   "source": [
    "def list_add_UN(line):\n",
    "    global list_UN\n",
    "    \n",
    "    list_UN.append(line[0])"
   ]
  },
  {
   "cell_type": "code",
   "execution_count": null,
   "id": "pediatric-interface",
   "metadata": {},
   "outputs": [],
   "source": [
    "def list_add_XR(line):\n",
    "    global list_XR\n",
    "    \n",
    "    list_XR.append(line[0])"
   ]
  },
  {
   "cell_type": "code",
   "execution_count": null,
   "id": "southern-native",
   "metadata": {},
   "outputs": [],
   "source": [
    "def list_add_zero(line):\n",
    "    global list_zero\n",
    "    \n",
    "    list_zero.append(line)"
   ]
  },
  {
   "cell_type": "code",
   "execution_count": null,
   "id": "thrown-shape",
   "metadata": {},
   "outputs": [],
   "source": [
    "def list_add_position_num(line):\n",
    "    global list_position_num\n",
    "    \n",
    "    pos = list(line)\n",
    "    \n",
    "    for line in list_position_num:\n",
    "        if line[0] == pos[0] and line[1] == pos[1]:\n",
    "            line[2] += 1\n",
    "            return 1\n",
    "        \n",
    "    pos += [1]\n",
    "    list_position_num.append(pos)"
   ]
  },
  {
   "cell_type": "code",
   "execution_count": null,
   "id": "industrial-sweden",
   "metadata": {},
   "outputs": [],
   "source": []
  },
  {
   "cell_type": "code",
   "execution_count": null,
   "id": "super-quick",
   "metadata": {},
   "outputs": [],
   "source": [
    "def buf_add_score():\n",
    "    global buf_score\n",
    "    \n",
    "    buf_score += '텍스트 평균 점수 : ' + str(Calculate.get_score_total() / Calculate.get_score_len()) + '\\n'\n",
    "    buf_score += '최고 점수 : ' + str(max(Calculate.get_score_list())) + '\\n'\n",
    "    buf_score += '최저 점수 : ' + str(min(Calculate.get_score_list())) + '\\n'\n",
    "    \n",
    "    buf_score += '총 어휘 개수 (0점 ~ 6점) : ' + str(Calculate.get_num_voca_total()) + '\\n'\n",
    "    buf_score += '총 문법 개수 (0점 ~ 6점) : ' + str(Calculate.get_num_gram_total()) + '\\n'\n"
   ]
  },
  {
   "cell_type": "code",
   "execution_count": null,
   "id": "accredited-final",
   "metadata": {},
   "outputs": [],
   "source": []
  },
  {
   "cell_type": "code",
   "execution_count": null,
   "id": "configured-payroll",
   "metadata": {},
   "outputs": [],
   "source": []
  },
  {
   "cell_type": "code",
   "execution_count": null,
   "id": "southwest-interpretation",
   "metadata": {},
   "outputs": [],
   "source": [
    "def result_simple():\n",
    "    print('평균 문장 난이도 :', Calculate.get_score_total() / Calculate.get_score_len())\n",
    "    print('최고 점수 :', max(Calculate.get_score_list()))\n",
    "    print('최저 점수 :', min(Calculate.get_score_list()))"
   ]
  },
  {
   "cell_type": "code",
   "execution_count": null,
   "id": "consistent-ethics",
   "metadata": {},
   "outputs": [],
   "source": [
    "def get_score_rate():\n",
    "    sum_voca = sum(Calculate.get_num_voca_total())\n",
    "    sum_gram = sum(Calculate.get_num_gram_total())\n",
    "    \n",
    "    if sum_voca == 0:\n",
    "        sum_voca = 1\n",
    "    if sum_gram == 0:\n",
    "        sum_gram = 1\n",
    "    \n",
    "    avg = Calculate.get_score_total() / Calculate.get_score_len()\n",
    "    voca_zero_rate = Calculate.get_num_voca_total()[0] / sum_voca\n",
    "    gram_zero_rate = Calculate.get_num_gram_total()[0] / sum_gram\n",
    "    \n",
    "    return avg, voca_zero_rate, gram_zero_rate"
   ]
  }
 ],
 "metadata": {
  "kernelspec": {
   "display_name": "Python 3",
   "language": "python",
   "name": "python3"
  },
  "language_info": {
   "codemirror_mode": {
    "name": "ipython",
    "version": 3
   },
   "file_extension": ".py",
   "mimetype": "text/x-python",
   "name": "python",
   "nbconvert_exporter": "python",
   "pygments_lexer": "ipython3",
   "version": "3.8.8"
  }
 },
 "nbformat": 4,
 "nbformat_minor": 5
}
