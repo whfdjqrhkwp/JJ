{
 "cells": [
  {
   "cell_type": "code",
   "execution_count": 85,
   "id": "controlling-allah",
   "metadata": {},
   "outputs": [],
   "source": [
    "# Graph"
   ]
  },
  {
   "cell_type": "code",
   "execution_count": 9,
   "id": "resident-means",
   "metadata": {},
   "outputs": [],
   "source": [
    "import import_ipynb\n",
    "\n",
    "import Result\n",
    "\n",
    "import os\n",
    "import pandas as pd\n",
    "import matplotlib.pyplot as pp\n",
    "import matplotlib as mp\n",
    "import matplotlib.font_manager as fm\n",
    "import seaborn as sb"
   ]
  },
  {
   "cell_type": "code",
   "execution_count": 87,
   "id": "periodic-collaboration",
   "metadata": {},
   "outputs": [],
   "source": [
    "list_score = []"
   ]
  },
  {
   "cell_type": "code",
   "execution_count": 88,
   "id": "departmental-parliament",
   "metadata": {},
   "outputs": [],
   "source": [
    "def draw_graph(list_score):\n",
    "    df = pd.DataFrame(list_score, columns = ['score'])\n",
    "    \n",
    "    draw_score(list_score, df)\n",
    "    draw_density(list_score, df)"
   ]
  },
  {
   "cell_type": "code",
   "execution_count": 89,
   "id": "explicit-leather",
   "metadata": {},
   "outputs": [],
   "source": [
    "def draw_score(list_score, df):\n",
    "    pp.figure(figsize = (12, 4))\n",
    "    pp.plot(df)\n",
    "    pp.xlabel('sentence')\n",
    "    pp.ylabel('score')\n",
    "    pp.savefig(os.path.join(Result.get_output_address(), 'img_score.png'))\n",
    "    pp.show()"
   ]
  },
  {
   "cell_type": "code",
   "execution_count": 90,
   "id": "successful-assistant",
   "metadata": {},
   "outputs": [],
   "source": [
    "def draw_density(list_score, df):\n",
    "    pp.figure(figsize = (12, 4))\n",
    "    sb.kdeplot(df['score'])\n",
    "    pp.savefig(os.path.join(Result.get_output_address(), 'img_density.png'))\n",
    "    pp.show()"
   ]
  },
  {
   "cell_type": "code",
   "execution_count": null,
   "id": "affecting-riverside",
   "metadata": {},
   "outputs": [],
   "source": []
  }
 ],
 "metadata": {
  "kernelspec": {
   "display_name": "Python 3",
   "language": "python",
   "name": "python3"
  },
  "language_info": {
   "codemirror_mode": {
    "name": "ipython",
    "version": 3
   },
   "file_extension": ".py",
   "mimetype": "text/x-python",
   "name": "python",
   "nbconvert_exporter": "python",
   "pygments_lexer": "ipython3",
   "version": "3.8.8"
  }
 },
 "nbformat": 4,
 "nbformat_minor": 5
}
