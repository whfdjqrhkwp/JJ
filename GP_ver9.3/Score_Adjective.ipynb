{
 "cells": [
  {
   "cell_type": "code",
   "execution_count": 1,
   "id": "duplicate-suspect",
   "metadata": {},
   "outputs": [],
   "source": [
    "# Scoring for Adjective"
   ]
  },
  {
   "cell_type": "code",
   "execution_count": 2,
   "id": "encouraging-butter",
   "metadata": {},
   "outputs": [],
   "source": [
    "import pandas as pd\n",
    "import os"
   ]
  },
  {
   "cell_type": "code",
   "execution_count": 3,
   "id": "animated-algebra",
   "metadata": {},
   "outputs": [],
   "source": [
    "data_list = []\n",
    "\n",
    "data_name = 'Data_Adjective.xlsx'\n",
    "\n",
    "data_dir = 'Data'"
   ]
  },
  {
   "cell_type": "code",
   "execution_count": 4,
   "id": "honey-overview",
   "metadata": {},
   "outputs": [],
   "source": [
    "def init():\n",
    "    # 형용사 데이터 로드\n",
    "    global data_list\n",
    "    data = pd.read_excel(os.path.join(os.getcwd(), data_dir, data_name))\n",
    "    if data is None:\n",
    "        print('Failed to load data : Adjective')\n",
    "    \n",
    "    # 데이터 리스트화\n",
    "    data_list = data.values.tolist()\n",
    "    print('Succeed in loading data : Adjective')"
   ]
  },
  {
   "cell_type": "code",
   "execution_count": 5,
   "id": "abandoned-speed",
   "metadata": {},
   "outputs": [],
   "source": [
    "def scoring(token):\n",
    "    # 형용사를 받음\n",
    "    \n",
    "    score = 0\n",
    "    # 해당 형용사에 대응되는 난이도 리턴\n",
    "    for line in data_list:\n",
    "        if line[1] == token + '다':\n",
    "            score = line[0]\n",
    "            break\n",
    "            \n",
    "    return score"
   ]
  },
  {
   "cell_type": "code",
   "execution_count": null,
   "id": "maritime-buddy",
   "metadata": {},
   "outputs": [],
   "source": []
  }
 ],
 "metadata": {
  "kernelspec": {
   "display_name": "Python 3",
   "language": "python",
   "name": "python3"
  },
  "language_info": {
   "codemirror_mode": {
    "name": "ipython",
    "version": 3
   },
   "file_extension": ".py",
   "mimetype": "text/x-python",
   "name": "python",
   "nbconvert_exporter": "python",
   "pygments_lexer": "ipython3",
   "version": "3.8.8"
  }
 },
 "nbformat": 4,
 "nbformat_minor": 5
}
