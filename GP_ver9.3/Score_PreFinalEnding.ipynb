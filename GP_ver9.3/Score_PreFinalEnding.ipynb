{
 "cells": [
  {
   "cell_type": "code",
   "execution_count": 1,
   "id": "literary-condition",
   "metadata": {},
   "outputs": [],
   "source": [
    "# Scoring for PreFinalEnding"
   ]
  },
  {
   "cell_type": "code",
   "execution_count": 2,
   "id": "drawn-demonstration",
   "metadata": {},
   "outputs": [],
   "source": [
    "import pandas as pd\n",
    "import os"
   ]
  },
  {
   "cell_type": "code",
   "execution_count": 3,
   "id": "functioning-eating",
   "metadata": {},
   "outputs": [],
   "source": [
    "data_list = []\n",
    "\n",
    "data_name = 'Data_PreFinalEnding.xlsx'\n",
    "\n",
    "data_dir = 'Data'"
   ]
  },
  {
   "cell_type": "code",
   "execution_count": 37,
   "id": "divided-dividend",
   "metadata": {},
   "outputs": [],
   "source": [
    "def init():\n",
    "    global data_list\n",
    "    \n",
    "    # 어미 데이터 로드\n",
    "    data = pd.read_excel(os.path.join(os.getcwd(), data_dir, data_name))\n",
    "    if data is None:\n",
    "        print('Failed to load data : PreFinalEnding')\n",
    "    \n",
    "    # 데이터 리스트화\n",
    "    data_list = data.values.tolist()\n",
    "    print('Succeed in loading data : PreFinalEnding')"
   ]
  },
  {
   "cell_type": "code",
   "execution_count": 38,
   "id": "introductory-covering",
   "metadata": {},
   "outputs": [],
   "source": [
    "def scoring(token):\n",
    "    # 선어말 어미를 받음\n",
    "    \n",
    "    score = 0\n",
    "    # 해당 어미에 대응되는 난이도 리턴\n",
    "    for line in data_list:\n",
    "        if line[2] == token:\n",
    "            score = line[0]\n",
    "            break\n",
    "            \n",
    "    return score"
   ]
  },
  {
   "cell_type": "code",
   "execution_count": null,
   "id": "regular-enough",
   "metadata": {},
   "outputs": [],
   "source": []
  }
 ],
 "metadata": {
  "kernelspec": {
   "display_name": "Python 3",
   "language": "python",
   "name": "python3"
  },
  "language_info": {
   "codemirror_mode": {
    "name": "ipython",
    "version": 3
   },
   "file_extension": ".py",
   "mimetype": "text/x-python",
   "name": "python",
   "nbconvert_exporter": "python",
   "pygments_lexer": "ipython3",
   "version": "3.8.8"
  }
 },
 "nbformat": 4,
 "nbformat_minor": 5
}
